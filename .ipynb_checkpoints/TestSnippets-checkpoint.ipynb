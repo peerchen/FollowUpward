{
 "cells": [
  {
   "cell_type": "code",
   "execution_count": 14,
   "metadata": {},
   "outputs": [
    {
     "name": "stdout",
     "output_type": "stream",
     "text": [
      "                       B\n",
      "2013-01-01 09:00:00  0.0\n",
      "2013-01-01 09:00:02  1.0\n",
      "2013-01-01 09:00:03  2.0\n",
      "2013-01-01 09:00:05  NaN\n",
      "2013-01-01 09:00:06  4.0\n",
      "                       B\n",
      "2013-01-01 09:00:00  0.0\n",
      "2013-01-01 09:00:02  1.0\n",
      "2013-01-01 09:00:03  3.0\n",
      "2013-01-01 09:00:05  NaN\n",
      "2013-01-01 09:00:06  4.0\n"
     ]
    }
   ],
   "source": [
    "import pandas as pd\n",
    "import numpy as np\n",
    "\n",
    "from datetime import datetime\n",
    "\n",
    "\n",
    "df = pd.DataFrame({'B': [0, 1, 2, np.nan, 4]},\n",
    "                    index = [pd.Timestamp('20130101 09:00:00'),\n",
    "                            pd.Timestamp('20130101 09:00:02'),\n",
    "                            pd.Timestamp('20130101 09:00:03'),\n",
    "                            pd.Timestamp('20130101 09:00:05'),\n",
    "                            pd.Timestamp('20130101 09:00:06')])\n",
    "\n",
    "print(df)\n",
    "print(df.rolling('2S').sum())"
   ]
  },
  {
   "cell_type": "code",
   "execution_count": 60,
   "metadata": {},
   "outputs": [
    {
     "name": "stdout",
     "output_type": "stream",
     "text": [
      "                     B    C  D\n",
      "2012-10-08 18:15:05  0  1.0  0\n",
      "2012-10-08 18:16:05  1  1.0  0\n",
      "2012-10-08 18:17:05  1 -2.0  2\n",
      "2012-10-08 18:18:05 -2  6.0  1\n",
      "2012-10-08 18:19:05  6  4.0  0\n",
      "2012-10-08 18:20:05  4  NaN  0\n",
      "                     B    C  D\n",
      "2012-10-08 18:15:05  0  1.0  0\n",
      "2012-10-08 18:16:05  1 -2.0  2\n",
      "2012-10-08 18:17:05  1  6.0  2\n",
      "2012-10-08 18:18:05 -2  4.0  1\n",
      "2012-10-08 18:19:05  6  NaN  0\n",
      "2012-10-08 18:20:05  4  NaN  0\n",
      "                     B    C  D\n",
      "2012-10-08 18:15:05  0 -2.0  2\n",
      "2012-10-08 18:16:05  1  6.0  2\n",
      "2012-10-08 18:17:05  1  4.0  2\n",
      "2012-10-08 18:18:05 -2  NaN  1\n",
      "2012-10-08 18:19:05  6  NaN  0\n",
      "2012-10-08 18:20:05  4  NaN  0\n",
      "                     B    C  D\n",
      "2012-10-08 18:15:05  0  6.0  2\n",
      "2012-10-08 18:16:05  1  4.0  2\n",
      "2012-10-08 18:17:05  1  NaN  2\n",
      "2012-10-08 18:18:05 -2  NaN  1\n",
      "2012-10-08 18:19:05  6  NaN  0\n",
      "2012-10-08 18:20:05  4  NaN  0\n"
     ]
    }
   ],
   "source": [
    "import pandas as pd\n",
    "import numpy as np\n",
    "\n",
    "from datetime import datetime\n",
    "\n",
    "df = pd.DataFrame({'B': [0, 1, 1, -2, 6, 4]},\n",
    "                    index = pd.date_range('2012-10-08 18:15:05', periods=6, freq='T'))\n",
    "\n",
    "df['C'] = df.B\n",
    "df['D'] = 0\n",
    "\n",
    "for i in range(-1, -5, -1) :\n",
    "    df['C'] = df.B.tshift(i)\n",
    "    df.loc[(df.D < 1) & (df.B.tshift(i) > 5), ['D']] = 1\n",
    "    df.loc[(df.D < 1) & (df.B.tshift(i) < 0), ['D']] = 2\n",
    "    print(df)        \n",
    "\n",
    "# the following doesn't work with pandas due to use of IF WHILE and the like or logical AND OR \n",
    "#while (df.loc[lambda df: df.D is 'searching':]):\n",
    "#    print('in loop')\n",
    "#    if df.B.tshift(i) > 5:\n",
    "#        df[D] = 'increased'\n",
    "#    elif df.B.tshift(i) < df.B:\n",
    "#        df[D] = 'decreased'\n",
    "\n",
    "# print(df.loc['2012-10-08 18:15:05']) #df.D is 'searching'])\n",
    "\n"
   ]
  }
 ],
 "metadata": {
  "kernelspec": {
   "display_name": "Python 3",
   "language": "python",
   "name": "python3"
  },
  "language_info": {
   "codemirror_mode": {
    "name": "ipython",
    "version": 3
   },
   "file_extension": ".py",
   "mimetype": "text/x-python",
   "name": "python",
   "nbconvert_exporter": "python",
   "pygments_lexer": "ipython3",
   "version": "3.6.7"
  }
 },
 "nbformat": 4,
 "nbformat_minor": 2
}
