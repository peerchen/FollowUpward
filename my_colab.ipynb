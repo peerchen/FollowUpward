{
  "nbformat": 4,
  "nbformat_minor": 0,
  "metadata": {
    "colab": {
      "name": "my_colab.ipynb",
      "version": "0.3.2",
      "provenance": [],
      "collapsed_sections": [],
      "include_colab_link": true
    },
    "kernelspec": {
      "name": "python3",
      "display_name": "Python 3"
    }
  },
  "cells": [
    {
      "cell_type": "markdown",
      "metadata": {
        "id": "view-in-github",
        "colab_type": "text"
      },
      "source": [
        "<a href=\"https://colab.research.google.com/github/tcae/FollowUpward/blob/master/my_colab.ipynb\" target=\"_parent\"><img src=\"https://colab.research.google.com/assets/colab-badge.svg\" alt=\"Open In Colab\"/></a>"
      ]
    },
    {
      "metadata": {
        "id": "yZYewdL0m2qT",
        "colab_type": "code",
        "colab": {
          "base_uri": "https://localhost:8080/",
          "height": 187
        },
        "outputId": "3c11aaed-36a3-4a4c-fe9b-0826843a3502"
      },
      "cell_type": "code",
      "source": [
        "%cd /content\n",
        "!pwd\n",
        "!rm -R FollowUpward\n",
        "!git clone https://github.com/tcae/FollowUpward.git\n",
        "%cd /content/FollowUpward"
      ],
      "execution_count": 6,
      "outputs": [
        {
          "output_type": "stream",
          "text": [
            "/content\n",
            "/content\n",
            "Cloning into 'FollowUpward'...\n",
            "remote: Enumerating objects: 162, done.\u001b[K\n",
            "remote: Counting objects: 100% (162/162), done.\u001b[K\n",
            "remote: Compressing objects: 100% (114/114), done.\u001b[K\n",
            "remote: Total 162 (delta 96), reused 97 (delta 47), pack-reused 0\u001b[K\n",
            "Receiving objects: 100% (162/162), 14.08 MiB | 27.83 MiB/s, done.\n",
            "Resolving deltas: 100% (96/96), done.\n",
            "/content/FollowUpward\n"
          ],
          "name": "stdout"
        }
      ]
    },
    {
      "metadata": {
        "id": "kqU8Fr7bnA0e",
        "colab_type": "code",
        "colab": {
          "base_uri": "https://localhost:8080/",
          "height": 34
        },
        "outputId": "e3c3ac7e-3686-4e79-9747-1a33b068e1ad"
      },
      "cell_type": "code",
      "source": [
        "%env PYTHONPATH\n"
      ],
      "execution_count": 4,
      "outputs": [
        {
          "output_type": "execute_result",
          "data": {
            "text/plain": [
              "'/env/python:/content/FollowUpward'"
            ]
          },
          "metadata": {
            "tags": []
          },
          "execution_count": 4
        }
      ]
    },
    {
      "metadata": {
        "id": "6gwbDvUPnH4v",
        "colab_type": "code",
        "colab": {
          "base_uri": "https://localhost:8080/",
          "height": 34
        },
        "outputId": "b0b40268-d16d-4350-d25b-18a49de967a7"
      },
      "cell_type": "code",
      "source": [
        "%env PYTHONPATH /env/python:/content/FollowUpward\n"
      ],
      "execution_count": 3,
      "outputs": [
        {
          "output_type": "stream",
          "text": [
            "env: PYTHONPATH=/env/python:/content/FollowUpward\n"
          ],
          "name": "stdout"
        }
      ]
    },
    {
      "metadata": {
        "id": "u0Y7CZs8nYcL",
        "colab_type": "code",
        "colab": {
          "base_uri": "https://localhost:8080/",
          "height": 306
        },
        "outputId": "3683e8d4-c6a9-4bf8-d403-82546b197a98"
      },
      "cell_type": "code",
      "source": [
        "!ls /content/FollowUpward -l\n",
        "!pwd"
      ],
      "execution_count": 8,
      "outputs": [
        {
          "output_type": "stream",
          "text": [
            "total 176\n",
            "-rw-r--r-- 1 root root 34311 Mar  3 17:34 Catalyst2PandasData.ipynb\n",
            "-rw-r--r-- 1 root root  2521 Mar  3 17:34 catalyst_frame.py\n",
            "-rw-r--r-- 1 root root  9050 Mar  3 17:34 ClassifyTimeSpecific.py\n",
            "-rw-r--r-- 1 root root  8968 Mar  3 17:34 colab_lc.py\n",
            "-rw-r--r-- 1 root root  9624 Mar  3 17:34 colab_lin_class.py\n",
            "-rw-r--r-- 1 root root  8089 Mar  3 17:34 cpc_classifier.py\n",
            "-rw-r--r-- 1 root root 23869 Mar  3 17:34 cpc_linear.ipynb\n",
            "-rw-r--r-- 1 root root  1514 Mar  3 17:34 currency_pairs_2_classifier.py\n",
            "-rw-r--r-- 1 root root   843 Mar  3 17:34 currency_pairs_mod.py\n",
            "drwxr-xr-x 2 root root  4096 Mar  3 17:34 __pycache__\n",
            "-rw-r--r-- 1 root root    69 Mar  3 17:34 README.md\n",
            "-rw-r--r-- 1 root root  7853 Mar  3 17:34 snippets.py\n",
            "-rw-r--r-- 1 root root 29910 Mar  3 17:34 targets_features.py\n",
            "-rw-r--r-- 1 root root  7100 Mar  3 17:34 TestSnippets.ipynb\n",
            "-rw-r--r-- 1 root root  3168 Mar  3 17:34 test_targets_features.py\n",
            "/content/FollowUpward\n"
          ],
          "name": "stdout"
        }
      ]
    }
  ]
}