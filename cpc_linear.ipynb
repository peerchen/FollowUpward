{
  "nbformat": 4,
  "nbformat_minor": 0,
  "metadata": {
    "colab": {
      "name": "cpc-linear.ipynb",
      "version": "0.3.2",
      "provenance": [],
      "collapsed_sections": [],
      "include_colab_link": true
    },
    "kernelspec": {
      "name": "python3",
      "display_name": "Python 3"
    }
  },
  "cells": [
    {
      "cell_type": "markdown",
      "metadata": {
        "id": "view-in-github",
        "colab_type": "text"
      },
      "source": [
        "<a href=\"https://colab.research.google.com/github/tcae/FollowUpward/blob/master/cpc_linear.ipynb\" target=\"_parent\"><img src=\"https://colab.research.google.com/assets/colab-badge.svg\" alt=\"Open In Colab\"/></a>"
      ]
    },
    {
      "metadata": {
        "id": "rxh3QO6V-NQI",
        "colab_type": "text"
      },
      "cell_type": "markdown",
      "source": [
        "# New Section"
      ]
    },
    {
      "metadata": {
        "id": "gXGR65FP9_5b",
        "colab_type": "code",
        "outputId": "cf545944-f13f-42cd-8d72-63bb34c77ed7",
        "colab": {
          "base_uri": "https://localhost:8080/",
          "height": 51
        }
      },
      "cell_type": "code",
      "source": [
        "%env PYTHONPATH=/env/python:FollowUpward\n",
        "%env PYTHONPATH\n",
        "#%env PYTHONPATH=$PYTHONPATH:FollowUpward\n",
        "#%env PYTHONPATH\n"
      ],
      "execution_count": 6,
      "outputs": [
        {
          "output_type": "stream",
          "text": [
            "env: PYTHONPATH=/env/python:FollowUpward\n"
          ],
          "name": "stdout"
        },
        {
          "output_type": "execute_result",
          "data": {
            "text/plain": [
              "'/env/python:FollowUpward'"
            ]
          },
          "metadata": {
            "tags": []
          },
          "execution_count": 6
        }
      ]
    },
    {
      "metadata": {
        "id": "xGPrA02Iw2XJ",
        "colab_type": "code",
        "colab": {
          "base_uri": "https://localhost:8080/",
          "height": 153
        },
        "outputId": "df6aa872-261f-4731-f0e8-ddea203ea259"
      },
      "cell_type": "code",
      "source": [
        "!ls FollowUpward\n",
        "\n",
        "\n",
        "\n",
        "\n"
      ],
      "execution_count": 11,
      "outputs": [
        {
          "output_type": "stream",
          "text": [
            "Catalyst2PandasData.ipynb\tlogistic_regression.ipynb\n",
            "catalyst_frame.py\t\t__pycache__\n",
            "ClassifyTimeSpecific.py\t\tREADME.md\n",
            "cpc_classifier.py\t\tsnippets.py\n",
            "cpc_linear.ipynb\t\ttargets_features.py\n",
            "currency_pairs_2_classifier.py\tTestSnippets.ipynb\n",
            "currency_pairs_mod.py\t\ttest_targets_features.py\n",
            "df-test.pydata\n"
          ],
          "name": "stdout"
        }
      ]
    },
    {
      "metadata": {
        "id": "nhKu2SOjxuiM",
        "colab_type": "code",
        "colab": {
          "base_uri": "https://localhost:8080/",
          "height": 34
        },
        "outputId": "a1118a9f-82f9-4902-9693-c8e8a9c0286b"
      },
      "cell_type": "code",
      "source": [
        "!pwd\n"
      ],
      "execution_count": 3,
      "outputs": [
        {
          "output_type": "stream",
          "text": [
            "/content\n"
          ],
          "name": "stdout"
        }
      ]
    },
    {
      "metadata": {
        "id": "bGRORtiDYMgi",
        "colab_type": "code",
        "colab": {
          "base_uri": "https://localhost:8080/",
          "height": 34
        },
        "outputId": "3c9f8d2e-20d4-4861-deea-c2164966c85a"
      },
      "cell_type": "code",
      "source": [
        "!printenv PYTHONPATH\n"
      ],
      "execution_count": 5,
      "outputs": [
        {
          "output_type": "stream",
          "text": [
            "$PYTHONPATH:FollowUpward\n"
          ],
          "name": "stdout"
        }
      ]
    },
    {
      "metadata": {
        "id": "BMsGN18op0dt",
        "colab_type": "code",
        "colab": {
          "base_uri": "https://localhost:8080/",
          "height": 136
        },
        "outputId": "7395e9c0-404c-4948-9777-d7b77d313960"
      },
      "cell_type": "code",
      "source": [
        "!rm -R FollowUpward\n",
        "!git clone https://github.com/tcae/FollowUpward.git"
      ],
      "execution_count": 8,
      "outputs": [
        {
          "output_type": "stream",
          "text": [
            "Cloning into 'FollowUpward'...\n",
            "remote: Enumerating objects: 113, done.\u001b[K\n",
            "remote: Counting objects: 100% (113/113), done.\u001b[K\n",
            "remote: Compressing objects: 100% (83/83), done.\u001b[K\n",
            "remote: Total 113 (delta 66), reused 61 (delta 29), pack-reused 0\u001b[K\n",
            "Receiving objects: 100% (113/113), 13.75 MiB | 16.09 MiB/s, done.\n",
            "Resolving deltas: 100% (66/66), done.\n"
          ],
          "name": "stdout"
        }
      ]
    },
    {
      "metadata": {
        "id": "3M5NTe5er601",
        "colab_type": "code",
        "colab": {
          "base_uri": "https://localhost:8080/",
          "height": 34
        },
        "outputId": "90f24b04-7f20-4f94-9dc8-c8058f39fcb9"
      },
      "cell_type": "code",
      "source": [
        "!git fetch FollowUpward.git\n"
      ],
      "execution_count": 11,
      "outputs": [
        {
          "output_type": "stream",
          "text": [
            "fatal: not a git repository (or any of the parent directories): .git\n"
          ],
          "name": "stdout"
        }
      ]
    },
    {
      "metadata": {
        "colab_type": "code",
        "id": "RWSJpsyKqHjH",
        "outputId": "22a88f9e-550b-4720-a9ea-ab3bb2f3a0a5",
        "colab": {
          "base_uri": "https://localhost:8080/",
          "height": 34
        }
      },
      "cell_type": "code",
      "source": [
        "from google.colab import drive\n",
        "drive.mount('/content/gdrive')"
      ],
      "execution_count": 0,
      "outputs": [
        {
          "output_type": "stream",
          "text": [
            "Drive already mounted at /content/gdrive; to attempt to forcibly remount, call drive.mount(\"/content/gdrive\", force_remount=True).\n"
          ],
          "name": "stdout"
        }
      ]
    },
    {
      "metadata": {
        "id": "5TXnqIijPC1r",
        "colab_type": "code",
        "colab": {}
      },
      "cell_type": "code",
      "source": [
        "import sys\n",
        "sys.path.append(\"./FollowUpward\")\n"
      ],
      "execution_count": 0,
      "outputs": []
    },
    {
      "metadata": {
        "id": "MTGVqgx2PBEG",
        "colab_type": "code",
        "colab": {
          "base_uri": "https://localhost:8080/",
          "height": 623
        },
        "outputId": "e8d1a698-8747-4214-cdb6-48edc925132f"
      },
      "cell_type": "code",
      "source": [
        "#from importlib.machinery import SourceFileLoader\n",
        "#somemodule = SourceFileLoader('cpc_classifier', 'FollowUpward/cpc_classifier.py').load_module()\n",
        "#somemodule = SourceFileLoader('TfVectors', 'FollowUpward/targets_features.py').load_module()\n",
        "# from cpc_classifier import execute\n",
        "%cd FollowUpward\n",
        "!ls\n",
        "\n",
        "import cpc_classifier\n",
        "execute()"
      ],
      "execution_count": 17,
      "outputs": [
        {
          "output_type": "stream",
          "text": [
            "/content/FollowUpward\n",
            "Catalyst2PandasData.ipynb\tlogistic_regression.ipynb\n",
            "catalyst_frame.py\t\t__pycache__\n",
            "ClassifyTimeSpecific.py\t\tREADME.md\n",
            "cpc_classifier.py\t\tsnippets.py\n",
            "cpc_linear.ipynb\t\ttargets_features.py\n",
            "currency_pairs_2_classifier.py\tTestSnippets.ipynb\n",
            "currency_pairs_mod.py\t\ttest_targets_features.py\n",
            "df-test.pydata\n"
          ],
          "name": "stdout"
        },
        {
          "output_type": "error",
          "ename": "ImportError",
          "evalue": "ignored",
          "traceback": [
            "\u001b[0;31m---------------------------------------------------------------------------\u001b[0m",
            "\u001b[0;31mImportError\u001b[0m                               Traceback (most recent call last)",
            "\u001b[0;32m<ipython-input-17-c1e3bded90bc>\u001b[0m in \u001b[0;36m<module>\u001b[0;34m()\u001b[0m\n\u001b[1;32m      2\u001b[0m \u001b[0mget_ipython\u001b[0m\u001b[0;34m(\u001b[0m\u001b[0;34m)\u001b[0m\u001b[0;34m.\u001b[0m\u001b[0msystem\u001b[0m\u001b[0;34m(\u001b[0m\u001b[0;34m'ls'\u001b[0m\u001b[0;34m)\u001b[0m\u001b[0;34m\u001b[0m\u001b[0;34m\u001b[0m\u001b[0m\n\u001b[1;32m      3\u001b[0m \u001b[0;34m\u001b[0m\u001b[0m\n\u001b[0;32m----> 4\u001b[0;31m \u001b[0;32mimport\u001b[0m \u001b[0mcpc_classifier\u001b[0m\u001b[0;34m\u001b[0m\u001b[0;34m\u001b[0m\u001b[0m\n\u001b[0m\u001b[1;32m      5\u001b[0m \u001b[0mexecute\u001b[0m\u001b[0;34m(\u001b[0m\u001b[0;34m)\u001b[0m\u001b[0;34m\u001b[0m\u001b[0;34m\u001b[0m\u001b[0m\n",
            "\u001b[0;32m/content/FollowUpward/cpc_classifier.py\u001b[0m in \u001b[0;36m<module>\u001b[0;34m()\u001b[0m\n\u001b[1;32m     12\u001b[0m \u001b[0;32mimport\u001b[0m \u001b[0mos\u001b[0m\u001b[0;34m\u001b[0m\u001b[0;34m\u001b[0m\u001b[0m\n\u001b[1;32m     13\u001b[0m \u001b[0;31m# import pandas as pd\u001b[0m\u001b[0;34m\u001b[0m\u001b[0;34m\u001b[0m\u001b[0;34m\u001b[0m\u001b[0m\n\u001b[0;32m---> 14\u001b[0;31m \u001b[0;32mfrom\u001b[0m \u001b[0mtargets_features\u001b[0m \u001b[0;32mimport\u001b[0m \u001b[0mTfVectors\u001b[0m\u001b[0;34m\u001b[0m\u001b[0;34m\u001b[0m\u001b[0m\n\u001b[0m\u001b[1;32m     15\u001b[0m \u001b[0;34m\u001b[0m\u001b[0m\n\u001b[1;32m     16\u001b[0m \u001b[0;32mimport\u001b[0m \u001b[0mmath\u001b[0m\u001b[0;34m\u001b[0m\u001b[0;34m\u001b[0m\u001b[0m\n",
            "\u001b[0;31mImportError\u001b[0m: cannot import name 'TfVectors'",
            "",
            "\u001b[0;31m---------------------------------------------------------------------------\u001b[0;32m\nNOTE: If your import is failing due to a missing package, you can\nmanually install dependencies using either !pip or !apt.\n\nTo view examples of installing some common dependencies, click the\n\"Open Examples\" button below.\n\u001b[0;31m---------------------------------------------------------------------------\u001b[0m\n"
          ]
        }
      ]
    },
    {
      "metadata": {
        "id": "xAttw-FjbgoL",
        "colab_type": "code",
        "colab": {
          "base_uri": "https://localhost:8080/",
          "height": 187
        },
        "outputId": "df5499dd-cec8-4674-bf34-876fdd86aa2e"
      },
      "cell_type": "code",
      "source": [
        "!tail targets_features.py\n"
      ],
      "execution_count": 18,
      "outputs": [
        {
          "output_type": "stream",
          "text": [
            "                self.tf_vectors[time_agg][tgt + 'B'] = self.tf_aggs[time_agg].bottom.shift(offset)\n",
            "                self.tf_vectors[time_agg][tgt + 'V'] = self.tf_aggs[time_agg].vol.shift(offset)\n",
            "            self.tf_vectors[time_agg].dropna(inplace=True)\n",
            "\n",
            "\n",
            "#if __name__ == \"__main__\":\n",
            "#    import sys\n",
            "#    fib(int(sys.argv[1]))\n",
            "#    currency_data = FeaturesTargets()\n",
            "#    print(currency_data.performances())\n"
          ],
          "name": "stdout"
        }
      ]
    }
  ]
}