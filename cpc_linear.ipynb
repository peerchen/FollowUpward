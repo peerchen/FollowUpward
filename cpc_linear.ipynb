{
 "cells": [
  {
   "cell_type": "markdown",
   "metadata": {
    "colab_type": "text",
    "id": "view-in-github"
   },
   "source": [
    "<a href=\"https://colab.research.google.com/github/tcae/FollowUpward/blob/master/cpc_linear.ipynb\" target=\"_parent\"><img src=\"https://colab.research.google.com/assets/colab-badge.svg\" alt=\"Open In Colab\"/></a>"
   ]
  },
  {
   "cell_type": "markdown",
   "metadata": {
    "colab_type": "text",
    "id": "rxh3QO6V-NQI"
   },
   "source": [
    "# New Section"
   ]
  },
  {
   "cell_type": "code",
   "execution_count": 6,
   "metadata": {
    "colab": {
     "base_uri": "https://localhost:8080/",
     "height": 51
    },
    "colab_type": "code",
    "id": "gXGR65FP9_5b",
    "outputId": "cf545944-f13f-42cd-8d72-63bb34c77ed7"
   },
   "outputs": [
    {
     "name": "stdout",
     "output_type": "stream",
     "text": [
      "env: PYTHONPATH=/env/python:FollowUpward\n"
     ]
    },
    {
<<<<<<< HEAD
     "data": {
      "text/plain": [
       "'/env/python:FollowUpward'"
=======
      "metadata": {
        "id": "gXGR65FP9_5b",
        "colab_type": "code",
        "outputId": "19787443-f336-4861-8b16-831a4245db0b",
        "colab": {
          "base_uri": "https://localhost:8080/",
          "height": 442
        }
      },
      "cell_type": "code",
      "source": [
        "%env PYTHONPATH=/env/python:/content/FollowUpward\n",
        "%env PYTHONPATH\n",
        "#%env PYTHONPATH=$PYTHONPATH:FollowUpward\n",
        "#%env PYTHONPATH\n",
        "!ls /content -l\n",
        "!ls /content/FollowUpward -l\n"
      ],
      "execution_count": 60,
      "outputs": [
        {
          "output_type": "stream",
          "text": [
            "env: PYTHONPATH=/env/python:/content/FollowUpward\n",
            "total 8\n",
            "drwxr-xr-x 5 root root 4096 Mar  2 20:14 FollowUpward\n",
            "drwxr-xr-x 1 root root 4096 Feb 26 17:33 sample_data\n",
            "total 772\n",
            "-rw-r--r-- 1 root root 215503 Mar  2 20:14 Catalyst2PandasData.ipynb\n",
            "-rw-r--r-- 1 root root   2602 Mar  2 20:14 catalyst_frame.py\n",
            "-rw-r--r-- 1 root root   9050 Mar  2 20:14 ClassifyTimeSpecific.py\n",
            "-rw-r--r-- 1 root root   8968 Mar  2 20:14 colab_lc.py\n",
            "-rw-r--r-- 1 root root   9624 Mar  2 20:14 colab_lin_class.py\n",
            "-rw-r--r-- 1 root root 303142 Mar  2 20:14 colab_logistic_regression.ipynb\n",
            "-rw-r--r-- 1 root root   8195 Mar  2 20:14 cpc_classifier.py\n",
            "-rw-r--r-- 1 root root  11701 Mar  2 20:14 cpc_linear.ipynb\n",
            "-rw-r--r-- 1 root root   1514 Mar  2 20:14 currency_pairs_2_classifier.py\n",
            "-rw-r--r-- 1 root root    843 Mar  2 20:14 currency_pairs_mod.py\n",
            "-rw-r--r-- 1 root root  73461 Mar  2 20:14 logistic_regression.ipynb\n",
            "-rw-r--r-- 1 root root  30375 Mar  2 20:14 logistic_regression-tcae.ipynb\n",
            "drwxr-xr-x 2 root root   4096 Mar  2 20:14 __pycache__\n",
            "-rw-r--r-- 1 root root     69 Mar  2 20:14 README.md\n",
            "-rw-r--r-- 1 root root   7853 Mar  2 20:14 snippets.py\n",
            "-rw-r--r-- 1 root root  25950 Mar  2 20:14 targets_features.py\n",
            "-rw-r--r-- 1 root root  12484 Mar  2 20:14 TestSnippets.ipynb\n",
            "-rw-r--r-- 1 root root   3050 Mar  2 20:14 test_targets_features.py\n",
            "-rw-r--r-- 1 root root  18614 Mar  2 20:14 tst_usdt.pydata\n",
            "ls: cannot access '/content/FollowUpward/FollowUpward': No such file or directory\n"
          ],
          "name": "stdout"
        }
>>>>>>> 4f586dd0430ecc1c6ca8884c949408ee29f4517e
      ]
     },
     "execution_count": 6,
     "metadata": {
      "tags": []
     },
     "output_type": "execute_result"
    }
   ],
   "source": [
    "#%env PYTHONPATH=/env/python:FollowUpward\n",
    "%env PYTHONPATH\n",
    "#%env PYTHONPATH=$PYTHONPATH:FollowUpward\n",
    "#%env PYTHONPATH\n"
   ]
  },
  {
   "cell_type": "code",
   "execution_count": 11,
   "metadata": {
    "colab": {
     "base_uri": "https://localhost:8080/",
     "height": 153
    },
    "colab_type": "code",
    "id": "xGPrA02Iw2XJ",
    "outputId": "df6aa872-261f-4731-f0e8-ddea203ea259"
   },
   "outputs": [
    {
     "name": "stdout",
     "output_type": "stream",
     "text": [
      "Catalyst2PandasData.ipynb\tlogistic_regression.ipynb\n",
      "catalyst_frame.py\t\t__pycache__\n",
      "ClassifyTimeSpecific.py\t\tREADME.md\n",
      "cpc_classifier.py\t\tsnippets.py\n",
      "cpc_linear.ipynb\t\ttargets_features.py\n",
      "currency_pairs_2_classifier.py\tTestSnippets.ipynb\n",
      "currency_pairs_mod.py\t\ttest_targets_features.py\n",
      "df-test.pydata\n"
     ]
    }
   ],
   "source": [
    "!ls FollowUpward\n",
    "\n",
    "\n",
    "\n",
    "\n"
   ]
  },
  {
   "cell_type": "code",
   "execution_count": 3,
   "metadata": {
    "colab": {
     "base_uri": "https://localhost:8080/",
     "height": 34
    },
    "colab_type": "code",
    "id": "nhKu2SOjxuiM",
    "outputId": "a1118a9f-82f9-4902-9693-c8e8a9c0286b"
   },
   "outputs": [
    {
     "name": "stdout",
     "output_type": "stream",
     "text": [
      "/content\n"
     ]
    }
   ],
   "source": [
    "!pwd\n"
   ]
  },
  {
   "cell_type": "code",
   "execution_count": 5,
   "metadata": {
    "colab": {
     "base_uri": "https://localhost:8080/",
     "height": 34
    },
    "colab_type": "code",
    "id": "bGRORtiDYMgi",
    "outputId": "3c9f8d2e-20d4-4861-deea-c2164966c85a"
   },
   "outputs": [
    {
<<<<<<< HEAD
     "name": "stdout",
     "output_type": "stream",
     "text": [
      "$PYTHONPATH:FollowUpward\n"
     ]
    }
   ],
   "source": [
    "!printenv PYTHONPATH\n"
   ]
  },
  {
   "cell_type": "code",
   "execution_count": 8,
   "metadata": {
    "colab": {
     "base_uri": "https://localhost:8080/",
     "height": 136
=======
      "metadata": {
        "id": "bGRORtiDYMgi",
        "colab_type": "code",
        "colab": {
          "base_uri": "https://localhost:8080/",
          "height": 34
        },
        "outputId": "03e0bdb4-7327-4630-9426-fc251dd8f4c9"
      },
      "cell_type": "code",
      "source": [
        "!printenv PYTHONPATH\n"
      ],
      "execution_count": 26,
      "outputs": [
        {
          "output_type": "stream",
          "text": [
            "/env/python:FollowUpward\n"
          ],
          "name": "stdout"
        }
      ]
>>>>>>> 4f586dd0430ecc1c6ca8884c949408ee29f4517e
    },
    "colab_type": "code",
    "id": "BMsGN18op0dt",
    "outputId": "7395e9c0-404c-4948-9777-d7b77d313960"
   },
   "outputs": [
    {
<<<<<<< HEAD
     "name": "stdout",
     "output_type": "stream",
     "text": [
      "Cloning into 'FollowUpward'...\n",
      "remote: Enumerating objects: 113, done.\u001b[K\n",
      "remote: Counting objects: 100% (113/113), done.\u001b[K\n",
      "remote: Compressing objects: 100% (83/83), done.\u001b[K\n",
      "remote: Total 113 (delta 66), reused 61 (delta 29), pack-reused 0\u001b[K\n",
      "Receiving objects: 100% (113/113), 13.75 MiB | 16.09 MiB/s, done.\n",
      "Resolving deltas: 100% (66/66), done.\n"
     ]
    }
   ],
   "source": [
    "!rm -R FollowUpward\n",
    "!git clone https://github.com/tcae/FollowUpward.git"
   ]
  },
  {
   "cell_type": "code",
   "execution_count": 11,
   "metadata": {
    "colab": {
     "base_uri": "https://localhost:8080/",
     "height": 34
=======
      "metadata": {
        "id": "BMsGN18op0dt",
        "colab_type": "code",
        "colab": {
          "base_uri": "https://localhost:8080/",
          "height": 187
        },
        "outputId": "ce232b1f-6b6b-49b3-fd06-00ccaff1833e"
      },
      "cell_type": "code",
      "source": [
        "%cd /content\n",
        "!pwd\n",
        "!rm -R FollowUpward\n",
        "!git clone https://github.com/tcae/FollowUpward.git"
      ],
      "execution_count": 59,
      "outputs": [
        {
          "output_type": "stream",
          "text": [
            "/content\n",
            "/content\n",
            "rm: cannot remove 'FollowUpward': No such file or directory\n",
            "Cloning into 'FollowUpward'...\n",
            "remote: Enumerating objects: 139, done.\u001b[K\n",
            "remote: Counting objects: 100% (139/139), done.\u001b[K\n",
            "remote: Compressing objects: 100% (98/98), done.\u001b[K\n",
            "remote: Total 139 (delta 80), reused 83 (delta 40), pack-reused 0\u001b[K\n",
            "Receiving objects: 100% (139/139), 14.06 MiB | 19.51 MiB/s, done.\n",
            "Resolving deltas: 100% (80/80), done.\n"
          ],
          "name": "stdout"
        }
      ]
>>>>>>> 4f586dd0430ecc1c6ca8884c949408ee29f4517e
    },
    "colab_type": "code",
    "id": "3M5NTe5er601",
    "outputId": "90f24b04-7f20-4f94-9dc8-c8058f39fcb9"
   },
   "outputs": [
    {
     "name": "stdout",
     "output_type": "stream",
     "text": [
      "fatal: not a git repository (or any of the parent directories): .git\n"
     ]
    }
   ],
   "source": [
    "!git fetch FollowUpward.git\n"
   ]
  },
  {
   "cell_type": "code",
   "execution_count": 0,
   "metadata": {
    "colab": {
     "base_uri": "https://localhost:8080/",
     "height": 34
    },
    "colab_type": "code",
    "id": "RWSJpsyKqHjH",
    "outputId": "22a88f9e-550b-4720-a9ea-ab3bb2f3a0a5"
   },
   "outputs": [
    {
     "name": "stdout",
     "output_type": "stream",
     "text": [
      "Drive already mounted at /content/gdrive; to attempt to forcibly remount, call drive.mount(\"/content/gdrive\", force_remount=True).\n"
     ]
    }
   ],
   "source": [
    "from google.colab import drive\n",
    "drive.mount('/content/gdrive')"
   ]
  },
  {
   "cell_type": "code",
   "execution_count": 0,
   "metadata": {
    "colab": {},
    "colab_type": "code",
    "id": "5TXnqIijPC1r"
   },
   "outputs": [],
   "source": [
    "import sys\n",
    "sys.path.append(\"./FollowUpward\")\n"
   ]
  },
  {
   "cell_type": "code",
   "execution_count": 17,
   "metadata": {
    "colab": {
     "base_uri": "https://localhost:8080/",
     "height": 623
    },
    "colab_type": "code",
    "id": "MTGVqgx2PBEG",
    "outputId": "e8d1a698-8747-4214-cdb6-48edc925132f"
   },
   "outputs": [
    {
     "name": "stdout",
     "output_type": "stream",
     "text": [
      "/content/FollowUpward\n",
      "Catalyst2PandasData.ipynb\tlogistic_regression.ipynb\n",
      "catalyst_frame.py\t\t__pycache__\n",
      "ClassifyTimeSpecific.py\t\tREADME.md\n",
      "cpc_classifier.py\t\tsnippets.py\n",
      "cpc_linear.ipynb\t\ttargets_features.py\n",
      "currency_pairs_2_classifier.py\tTestSnippets.ipynb\n",
      "currency_pairs_mod.py\t\ttest_targets_features.py\n",
      "df-test.pydata\n"
     ]
    },
    {
<<<<<<< HEAD
     "ename": "ImportError",
     "evalue": "ignored",
     "output_type": "error",
     "traceback": [
      "\u001b[0;31m---------------------------------------------------------------------------\u001b[0m",
      "\u001b[0;31mImportError\u001b[0m                               Traceback (most recent call last)",
      "\u001b[0;32m<ipython-input-17-c1e3bded90bc>\u001b[0m in \u001b[0;36m<module>\u001b[0;34m()\u001b[0m\n\u001b[1;32m      2\u001b[0m \u001b[0mget_ipython\u001b[0m\u001b[0;34m(\u001b[0m\u001b[0;34m)\u001b[0m\u001b[0;34m.\u001b[0m\u001b[0msystem\u001b[0m\u001b[0;34m(\u001b[0m\u001b[0;34m'ls'\u001b[0m\u001b[0;34m)\u001b[0m\u001b[0;34m\u001b[0m\u001b[0;34m\u001b[0m\u001b[0m\n\u001b[1;32m      3\u001b[0m \u001b[0;34m\u001b[0m\u001b[0m\n\u001b[0;32m----> 4\u001b[0;31m \u001b[0;32mimport\u001b[0m \u001b[0mcpc_classifier\u001b[0m\u001b[0;34m\u001b[0m\u001b[0;34m\u001b[0m\u001b[0m\n\u001b[0m\u001b[1;32m      5\u001b[0m \u001b[0mexecute\u001b[0m\u001b[0;34m(\u001b[0m\u001b[0;34m)\u001b[0m\u001b[0;34m\u001b[0m\u001b[0;34m\u001b[0m\u001b[0m\n",
      "\u001b[0;32m/content/FollowUpward/cpc_classifier.py\u001b[0m in \u001b[0;36m<module>\u001b[0;34m()\u001b[0m\n\u001b[1;32m     12\u001b[0m \u001b[0;32mimport\u001b[0m \u001b[0mos\u001b[0m\u001b[0;34m\u001b[0m\u001b[0;34m\u001b[0m\u001b[0m\n\u001b[1;32m     13\u001b[0m \u001b[0;31m# import pandas as pd\u001b[0m\u001b[0;34m\u001b[0m\u001b[0;34m\u001b[0m\u001b[0;34m\u001b[0m\u001b[0m\n\u001b[0;32m---> 14\u001b[0;31m \u001b[0;32mfrom\u001b[0m \u001b[0mtargets_features\u001b[0m \u001b[0;32mimport\u001b[0m \u001b[0mTfVectors\u001b[0m\u001b[0;34m\u001b[0m\u001b[0;34m\u001b[0m\u001b[0m\n\u001b[0m\u001b[1;32m     15\u001b[0m \u001b[0;34m\u001b[0m\u001b[0m\n\u001b[1;32m     16\u001b[0m \u001b[0;32mimport\u001b[0m \u001b[0mmath\u001b[0m\u001b[0;34m\u001b[0m\u001b[0;34m\u001b[0m\u001b[0m\n",
      "\u001b[0;31mImportError\u001b[0m: cannot import name 'TfVectors'",
      "",
      "\u001b[0;31m---------------------------------------------------------------------------\u001b[0;32m\nNOTE: If your import is failing due to a missing package, you can\nmanually install dependencies using either !pip or !apt.\n\nTo view examples of installing some common dependencies, click the\n\"Open Examples\" button below.\n\u001b[0;31m---------------------------------------------------------------------------\u001b[0m\n"
     ]
    }
   ],
   "source": [
    "#from importlib.machinery import SourceFileLoader\n",
    "#somemodule = SourceFileLoader('cpc_classifier', 'FollowUpward/cpc_classifier.py').load_module()\n",
    "#somemodule = SourceFileLoader('TfVectors', 'FollowUpward/targets_features.py').load_module()\n",
    "# from cpc_classifier import execute\n",
    "%cd FollowUpward\n",
    "!ls\n",
    "\n",
    "import cpc_classifier\n",
    "execute()"
   ]
  },
  {
   "cell_type": "code",
   "execution_count": 18,
   "metadata": {
    "colab": {
     "base_uri": "https://localhost:8080/",
     "height": 187
=======
      "metadata": {
        "id": "MTGVqgx2PBEG",
        "colab_type": "code",
        "colab": {
          "base_uri": "https://localhost:8080/",
          "height": 623
        },
        "outputId": "6832c0b2-6428-4a53-d9e0-e330063f1012"
      },
      "cell_type": "code",
      "source": [
        "#from importlib.machinery import SourceFileLoader\n",
        "#somemodule = SourceFileLoader('cpc_classifier', 'FollowUpward/cpc_classifier.py').load_module()\n",
        "#somemodule = SourceFileLoader('TfVectors', 'FollowUpward/targets_features.py').load_module()\n",
        "# from cpc_classifier import execute\n",
        "%env PYTHONPATH\n",
        "%cd /content/FollowUpward\n",
        "!ls\n",
        "%env PYTHONPATH\n",
        "\n",
        "import targets_features\n",
        "import cpc_classifier\n",
        "cpc_classifier.execute()"
      ],
      "execution_count": 62,
      "outputs": [
        {
          "output_type": "stream",
          "text": [
            "/content/FollowUpward\n",
            "Catalyst2PandasData.ipynb\t logistic_regression.ipynb\n",
            "catalyst_frame.py\t\t logistic_regression-tcae.ipynb\n",
            "ClassifyTimeSpecific.py\t\t __pycache__\n",
            "colab_lc.py\t\t\t README.md\n",
            "colab_lin_class.py\t\t snippets.py\n",
            "colab_logistic_regression.ipynb  targets_features.py\n",
            "cpc_classifier.py\t\t TestSnippets.ipynb\n",
            "cpc_linear.ipynb\t\t test_targets_features.py\n",
            "currency_pairs_2_classifier.py\t tst_usdt.pydata\n",
            "currency_pairs_mod.py\n"
          ],
          "name": "stdout"
        },
        {
          "output_type": "error",
          "ename": "AttributeError",
          "evalue": "ignored",
          "traceback": [
            "\u001b[0;31m---------------------------------------------------------------------------\u001b[0m",
            "\u001b[0;31mAttributeError\u001b[0m                            Traceback (most recent call last)",
            "\u001b[0;32m<ipython-input-62-05ca4304b0ac>\u001b[0m in \u001b[0;36m<module>\u001b[0;34m()\u001b[0m\n\u001b[1;32m      6\u001b[0m \u001b[0;32mimport\u001b[0m \u001b[0mtargets_features\u001b[0m\u001b[0;34m\u001b[0m\u001b[0;34m\u001b[0m\u001b[0m\n\u001b[1;32m      7\u001b[0m \u001b[0;32mimport\u001b[0m \u001b[0mcpc_classifier\u001b[0m\u001b[0;34m\u001b[0m\u001b[0;34m\u001b[0m\u001b[0m\n\u001b[0;32m----> 8\u001b[0;31m \u001b[0mcpc_classifier\u001b[0m\u001b[0;34m.\u001b[0m\u001b[0mexecute\u001b[0m\u001b[0;34m(\u001b[0m\u001b[0;34m)\u001b[0m\u001b[0;34m\u001b[0m\u001b[0;34m\u001b[0m\u001b[0m\n\u001b[0m",
            "\u001b[0;32m/content/FollowUpward/cpc_classifier.py\u001b[0m in \u001b[0;36mexecute\u001b[0;34m()\u001b[0m\n\u001b[1;32m    189\u001b[0m \u001b[0;34m\u001b[0m\u001b[0m\n\u001b[1;32m    190\u001b[0m \u001b[0;32mdef\u001b[0m \u001b[0mexecute\u001b[0m\u001b[0;34m(\u001b[0m\u001b[0;34m)\u001b[0m\u001b[0;34m:\u001b[0m\u001b[0;34m\u001b[0m\u001b[0;34m\u001b[0m\u001b[0m\n\u001b[0;32m--> 191\u001b[0;31m     \u001b[0mtf_vectors\u001b[0m \u001b[0;34m=\u001b[0m \u001b[0mload_targets_features\u001b[0m\u001b[0;34m(\u001b[0m\u001b[0mCUR_PAIR\u001b[0m\u001b[0;34m)\u001b[0m\u001b[0;34m\u001b[0m\u001b[0;34m\u001b[0m\u001b[0m\n\u001b[0m\u001b[1;32m    192\u001b[0m     \u001b[0mset_dict\u001b[0m \u001b[0;34m=\u001b[0m \u001b[0mtf_vectors\u001b[0m\u001b[0;34m.\u001b[0m\u001b[0msplit_data\u001b[0m\u001b[0;34m(\u001b[0m\u001b[0;36m1\u001b[0m\u001b[0;34m)\u001b[0m\u001b[0;34m\u001b[0m\u001b[0;34m\u001b[0m\u001b[0m\n\u001b[1;32m    193\u001b[0m     \u001b[0mprint\u001b[0m\u001b[0;34m(\u001b[0m\u001b[0mset_dict\u001b[0m\u001b[0;34m[\u001b[0m\u001b[0;34m'training'\u001b[0m\u001b[0;34m]\u001b[0m\u001b[0;34m.\u001b[0m\u001b[0mdescribe\u001b[0m\u001b[0;34m(\u001b[0m\u001b[0;34m)\u001b[0m\u001b[0;34m)\u001b[0m\u001b[0;34m\u001b[0m\u001b[0;34m\u001b[0m\u001b[0m\n",
            "\u001b[0;32m/content/FollowUpward/cpc_classifier.py\u001b[0m in \u001b[0;36mload_targets_features\u001b[0;34m(currency_pair)\u001b[0m\n\u001b[1;32m     46\u001b[0m     \"\"\"\n\u001b[1;32m     47\u001b[0m     \u001b[0mfname\u001b[0m \u001b[0;34m=\u001b[0m \u001b[0mDATA_PATH\u001b[0m \u001b[0;34m+\u001b[0m \u001b[0;34m'/'\u001b[0m \u001b[0;34m+\u001b[0m \u001b[0mcurrency_pair\u001b[0m \u001b[0;34m+\u001b[0m \u001b[0;34m'.pydata'\u001b[0m\u001b[0;34m\u001b[0m\u001b[0;34m\u001b[0m\u001b[0m\n\u001b[0;32m---> 48\u001b[0;31m     \u001b[0mtf_vec\u001b[0m \u001b[0;34m=\u001b[0m \u001b[0mt_f\u001b[0m\u001b[0;34m.\u001b[0m\u001b[0mTfVectors\u001b[0m\u001b[0;34m(\u001b[0m\u001b[0mfilename\u001b[0m\u001b[0;34m=\u001b[0m\u001b[0mfname\u001b[0m\u001b[0;34m)\u001b[0m\u001b[0;34m\u001b[0m\u001b[0;34m\u001b[0m\u001b[0m\n\u001b[0m\u001b[1;32m     49\u001b[0m     \u001b[0;32massert\u001b[0m \u001b[0mtf_vec\u001b[0m \u001b[0;32mis\u001b[0m \u001b[0;32mnot\u001b[0m \u001b[0;32mNone\u001b[0m\u001b[0;34m,\u001b[0m \u001b[0;34m\"missing tf vectors from {fname}\"\u001b[0m\u001b[0;34m\u001b[0m\u001b[0;34m\u001b[0m\u001b[0m\n\u001b[1;32m     50\u001b[0m     \u001b[0;32mreturn\u001b[0m \u001b[0mtf_vec\u001b[0m\u001b[0;34m\u001b[0m\u001b[0;34m\u001b[0m\u001b[0m\n",
            "\u001b[0;31mAttributeError\u001b[0m: module 'targets_features' has no attribute 'TfVectors'"
          ]
        }
      ]
>>>>>>> 4f586dd0430ecc1c6ca8884c949408ee29f4517e
    },
    "colab_type": "code",
    "id": "xAttw-FjbgoL",
    "outputId": "df5499dd-cec8-4674-bf34-876fdd86aa2e"
   },
   "outputs": [
    {
<<<<<<< HEAD
     "name": "stdout",
     "output_type": "stream",
     "text": [
      "                self.tf_vectors[time_agg][tgt + 'B'] = self.tf_aggs[time_agg].bottom.shift(offset)\n",
      "                self.tf_vectors[time_agg][tgt + 'V'] = self.tf_aggs[time_agg].vol.shift(offset)\n",
      "            self.tf_vectors[time_agg].dropna(inplace=True)\n",
      "\n",
      "\n",
      "#if __name__ == \"__main__\":\n",
      "#    import sys\n",
      "#    fib(int(sys.argv[1]))\n",
      "#    currency_data = FeaturesTargets()\n",
      "#    print(currency_data.performances())\n"
     ]
=======
      "metadata": {
        "id": "xAttw-FjbgoL",
        "colab_type": "code",
        "colab": {
          "base_uri": "https://localhost:8080/",
          "height": 187
        },
        "outputId": "564c2641-3fb8-4b1e-b61c-9ecfb304f907"
      },
      "cell_type": "code",
      "source": [
        "!tail targets_features.py\n"
      ],
      "execution_count": 25,
      "outputs": [
        {
          "output_type": "stream",
          "text": [
            "        return seq\n",
            "\n",
            "\n",
            "\n",
            "#if __name__ == \"__main__\":\n",
            "#    import sys\n",
            "#    fib(int(sys.argv[1]))\n",
            "#    currency_data = FeaturesTargets()\n",
            "#    print(currency_data.performances())\n",
            "\n"
          ],
          "name": "stdout"
        }
      ]
    },
    {
      "metadata": {
        "id": "4VL91liZ_xej",
        "colab_type": "code",
        "colab": {
          "base_uri": "https://localhost:8080/",
          "height": 527
        },
        "outputId": "2b167cd4-2bee-4fe3-aa42-67108fd9e13c"
      },
      "cell_type": "code",
      "source": [
        "!head cpc_classifier.py -n 30\n",
        "\n"
      ],
      "execution_count": 45,
      "outputs": [
        {
          "output_type": "stream",
          "text": [
            "#!/usr/bin/env python3\n",
            "# -*- coding: utf-8 -*-\n",
            "\"\"\"\n",
            "Created on Sun Jan 20 18:40:09 2019\n",
            "\n",
            "@author: tc\n",
            "\n",
            "\"\"\"\n",
            "\n",
            "from __future__ import print_function\n",
            "\n",
            "import os\n",
            "# import pandas as pd\n",
            "from targets_features import TfVectors\n",
            "\n",
            "import math\n",
            "\n",
            "from IPython import display\n",
            "from matplotlib import cm\n",
            "from matplotlib import gridspec\n",
            "from matplotlib import pyplot as plt\n",
            "import numpy as np\n",
            "import pandas as pd\n",
            "from sklearn import metrics\n",
            "import tensorflow as tf\n",
            "from tensorflow.python.data import Dataset\n",
            "\n",
            "tf.logging.set_verbosity(tf.logging.ERROR)\n",
            "pd.options.display.max_rows = 10\n",
            "pd.options.display.float_format = '{:.1f}'.format\n"
          ],
          "name": "stdout"
        }
      ]
    },
    {
      "metadata": {
        "id": "_6S8Ed-68UUB",
        "colab_type": "code",
        "colab": {
          "base_uri": "https://localhost:8080/",
          "height": 34
        },
        "outputId": "f19e9897-d37d-4cdd-a461-71519159d0ea"
      },
      "cell_type": "code",
      "source": [
        "%env PYTHONPATH"
      ],
      "execution_count": 30,
      "outputs": [
        {
          "output_type": "execute_result",
          "data": {
            "text/plain": [
              "'/env/python:/content/FollowUpward'"
            ]
          },
          "metadata": {
            "tags": []
          },
          "execution_count": 30
        }
      ]
>>>>>>> 4f586dd0430ecc1c6ca8884c949408ee29f4517e
    }
   ],
   "source": [
    "!tail targets_features.py\n"
   ]
  }
 ],
 "metadata": {
  "colab": {
   "collapsed_sections": [],
   "include_colab_link": true,
   "name": "cpc-linear.ipynb",
   "provenance": [],
   "version": "0.3.2"
  },
  "kernelspec": {
   "display_name": "Python 3",
   "language": "python",
   "name": "python3"
  },
  "language_info": {
   "codemirror_mode": {
    "name": "ipython",
    "version": 3
   },
   "file_extension": ".py",
   "mimetype": "text/x-python",
   "name": "python",
   "nbconvert_exporter": "python",
   "pygments_lexer": "ipython3",
   "version": "3.6.4"
  }
 },
 "nbformat": 4,
 "nbformat_minor": 1
}
