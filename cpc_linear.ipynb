{
  "nbformat": 4,
  "nbformat_minor": 0,
  "metadata": {
    "colab": {
      "name": "cpc-linear.ipynb",
      "version": "0.3.2",
      "provenance": [],
      "collapsed_sections": [],
      "include_colab_link": true
    },
    "kernelspec": {
      "name": "python3",
      "display_name": "Python 3"
    }
  },
  "cells": [
    {
      "cell_type": "markdown",
      "metadata": {
        "id": "view-in-github",
        "colab_type": "text"
      },
      "source": [
        "<a href=\"https://colab.research.google.com/github/tcae/FollowUpward/blob/master/cpc_linear.ipynb\" target=\"_parent\"><img src=\"https://colab.research.google.com/assets/colab-badge.svg\" alt=\"Open In Colab\"/></a>"
      ]
    },
    {
      "metadata": {
        "id": "rxh3QO6V-NQI",
        "colab_type": "text"
      },
      "cell_type": "markdown",
      "source": [
        "# New Section"
      ]
    },
    {
      "metadata": {
        "id": "gXGR65FP9_5b",
        "colab_type": "code",
        "outputId": "19787443-f336-4861-8b16-831a4245db0b",
        "colab": {
          "base_uri": "https://localhost:8080/",
          "height": 442
        }
      },
      "cell_type": "code",
      "source": [
        "%env PYTHONPATH=/env/python:/content/FollowUpward\n",
        "%env PYTHONPATH\n",
        "#%env PYTHONPATH=$PYTHONPATH:FollowUpward\n",
        "#%env PYTHONPATH\n",
        "!ls /content -l\n",
        "!ls /content/FollowUpward -l\n"
      ],
      "execution_count": 60,
      "outputs": [
        {
          "output_type": "stream",
          "text": [
            "env: PYTHONPATH=/env/python:/content/FollowUpward\n",
            "total 8\n",
            "drwxr-xr-x 5 root root 4096 Mar  2 20:14 FollowUpward\n",
            "drwxr-xr-x 1 root root 4096 Feb 26 17:33 sample_data\n",
            "total 772\n",
            "-rw-r--r-- 1 root root 215503 Mar  2 20:14 Catalyst2PandasData.ipynb\n",
            "-rw-r--r-- 1 root root   2602 Mar  2 20:14 catalyst_frame.py\n",
            "-rw-r--r-- 1 root root   9050 Mar  2 20:14 ClassifyTimeSpecific.py\n",
            "-rw-r--r-- 1 root root   8968 Mar  2 20:14 colab_lc.py\n",
            "-rw-r--r-- 1 root root   9624 Mar  2 20:14 colab_lin_class.py\n",
            "-rw-r--r-- 1 root root 303142 Mar  2 20:14 colab_logistic_regression.ipynb\n",
            "-rw-r--r-- 1 root root   8195 Mar  2 20:14 cpc_classifier.py\n",
            "-rw-r--r-- 1 root root  11701 Mar  2 20:14 cpc_linear.ipynb\n",
            "-rw-r--r-- 1 root root   1514 Mar  2 20:14 currency_pairs_2_classifier.py\n",
            "-rw-r--r-- 1 root root    843 Mar  2 20:14 currency_pairs_mod.py\n",
            "-rw-r--r-- 1 root root  73461 Mar  2 20:14 logistic_regression.ipynb\n",
            "-rw-r--r-- 1 root root  30375 Mar  2 20:14 logistic_regression-tcae.ipynb\n",
            "drwxr-xr-x 2 root root   4096 Mar  2 20:14 __pycache__\n",
            "-rw-r--r-- 1 root root     69 Mar  2 20:14 README.md\n",
            "-rw-r--r-- 1 root root   7853 Mar  2 20:14 snippets.py\n",
            "-rw-r--r-- 1 root root  25950 Mar  2 20:14 targets_features.py\n",
            "-rw-r--r-- 1 root root  12484 Mar  2 20:14 TestSnippets.ipynb\n",
            "-rw-r--r-- 1 root root   3050 Mar  2 20:14 test_targets_features.py\n",
            "-rw-r--r-- 1 root root  18614 Mar  2 20:14 tst_usdt.pydata\n",
            "ls: cannot access '/content/FollowUpward/FollowUpward': No such file or directory\n"
          ],
          "name": "stdout"
        }
      ]
    },
    {
      "metadata": {
        "id": "xGPrA02Iw2XJ",
        "colab_type": "code",
        "colab": {
          "base_uri": "https://localhost:8080/",
          "height": 153
        },
        "outputId": "df6aa872-261f-4731-f0e8-ddea203ea259"
      },
      "cell_type": "code",
      "source": [
        "!ls FollowUpward\n",
        "\n",
        "\n",
        "\n",
        "\n"
      ],
      "execution_count": 11,
      "outputs": [
        {
          "output_type": "stream",
          "text": [
            "Catalyst2PandasData.ipynb\tlogistic_regression.ipynb\n",
            "catalyst_frame.py\t\t__pycache__\n",
            "ClassifyTimeSpecific.py\t\tREADME.md\n",
            "cpc_classifier.py\t\tsnippets.py\n",
            "cpc_linear.ipynb\t\ttargets_features.py\n",
            "currency_pairs_2_classifier.py\tTestSnippets.ipynb\n",
            "currency_pairs_mod.py\t\ttest_targets_features.py\n",
            "df-test.pydata\n"
          ],
          "name": "stdout"
        }
      ]
    },
    {
      "metadata": {
        "id": "nhKu2SOjxuiM",
        "colab_type": "code",
        "colab": {
          "base_uri": "https://localhost:8080/",
          "height": 34
        },
        "outputId": "a1118a9f-82f9-4902-9693-c8e8a9c0286b"
      },
      "cell_type": "code",
      "source": [
        "!pwd\n"
      ],
      "execution_count": 3,
      "outputs": [
        {
          "output_type": "stream",
          "text": [
            "/content\n"
          ],
          "name": "stdout"
        }
      ]
    },
    {
      "metadata": {
        "id": "bGRORtiDYMgi",
        "colab_type": "code",
        "colab": {
          "base_uri": "https://localhost:8080/",
          "height": 34
        },
        "outputId": "03e0bdb4-7327-4630-9426-fc251dd8f4c9"
      },
      "cell_type": "code",
      "source": [
        "!printenv PYTHONPATH\n"
      ],
      "execution_count": 26,
      "outputs": [
        {
          "output_type": "stream",
          "text": [
            "/env/python:FollowUpward\n"
          ],
          "name": "stdout"
        }
      ]
    },
    {
      "metadata": {
        "id": "BMsGN18op0dt",
        "colab_type": "code",
        "colab": {
          "base_uri": "https://localhost:8080/",
          "height": 187
        },
        "outputId": "ce232b1f-6b6b-49b3-fd06-00ccaff1833e"
      },
      "cell_type": "code",
      "source": [
        "%cd /content\n",
        "!pwd\n",
        "!rm -R FollowUpward\n",
        "!git clone https://github.com/tcae/FollowUpward.git"
      ],
      "execution_count": 59,
      "outputs": [
        {
          "output_type": "stream",
          "text": [
            "/content\n",
            "/content\n",
            "rm: cannot remove 'FollowUpward': No such file or directory\n",
            "Cloning into 'FollowUpward'...\n",
            "remote: Enumerating objects: 139, done.\u001b[K\n",
            "remote: Counting objects: 100% (139/139), done.\u001b[K\n",
            "remote: Compressing objects: 100% (98/98), done.\u001b[K\n",
            "remote: Total 139 (delta 80), reused 83 (delta 40), pack-reused 0\u001b[K\n",
            "Receiving objects: 100% (139/139), 14.06 MiB | 19.51 MiB/s, done.\n",
            "Resolving deltas: 100% (80/80), done.\n"
          ],
          "name": "stdout"
        }
      ]
    },
    {
      "metadata": {
        "id": "3M5NTe5er601",
        "colab_type": "code",
        "colab": {
          "base_uri": "https://localhost:8080/",
          "height": 34
        },
        "outputId": "90f24b04-7f20-4f94-9dc8-c8058f39fcb9"
      },
      "cell_type": "code",
      "source": [
        "!git fetch FollowUpward.git\n"
      ],
      "execution_count": 11,
      "outputs": [
        {
          "output_type": "stream",
          "text": [
            "fatal: not a git repository (or any of the parent directories): .git\n"
          ],
          "name": "stdout"
        }
      ]
    },
    {
      "metadata": {
        "colab_type": "code",
        "id": "RWSJpsyKqHjH",
        "outputId": "22a88f9e-550b-4720-a9ea-ab3bb2f3a0a5",
        "colab": {
          "base_uri": "https://localhost:8080/",
          "height": 34
        }
      },
      "cell_type": "code",
      "source": [
        "from google.colab import drive\n",
        "drive.mount('/content/gdrive')"
      ],
      "execution_count": 0,
      "outputs": [
        {
          "output_type": "stream",
          "text": [
            "Drive already mounted at /content/gdrive; to attempt to forcibly remount, call drive.mount(\"/content/gdrive\", force_remount=True).\n"
          ],
          "name": "stdout"
        }
      ]
    },
    {
      "metadata": {
        "id": "5TXnqIijPC1r",
        "colab_type": "code",
        "colab": {}
      },
      "cell_type": "code",
      "source": [
        "import sys\n",
        "sys.path.append(\"./FollowUpward\")\n"
      ],
      "execution_count": 0,
      "outputs": []
    },
    {
      "metadata": {
        "id": "MTGVqgx2PBEG",
        "colab_type": "code",
        "colab": {
          "base_uri": "https://localhost:8080/",
          "height": 623
        },
        "outputId": "6832c0b2-6428-4a53-d9e0-e330063f1012"
      },
      "cell_type": "code",
      "source": [
        "#from importlib.machinery import SourceFileLoader\n",
        "#somemodule = SourceFileLoader('cpc_classifier', 'FollowUpward/cpc_classifier.py').load_module()\n",
        "#somemodule = SourceFileLoader('TfVectors', 'FollowUpward/targets_features.py').load_module()\n",
        "# from cpc_classifier import execute\n",
        "%env PYTHONPATH\n",
        "%cd /content/FollowUpward\n",
        "!ls\n",
        "%env PYTHONPATH\n",
        "\n",
        "import targets_features\n",
        "import cpc_classifier\n",
        "cpc_classifier.execute()"
      ],
      "execution_count": 62,
      "outputs": [
        {
          "output_type": "stream",
          "text": [
            "/content/FollowUpward\n",
            "Catalyst2PandasData.ipynb\t logistic_regression.ipynb\n",
            "catalyst_frame.py\t\t logistic_regression-tcae.ipynb\n",
            "ClassifyTimeSpecific.py\t\t __pycache__\n",
            "colab_lc.py\t\t\t README.md\n",
            "colab_lin_class.py\t\t snippets.py\n",
            "colab_logistic_regression.ipynb  targets_features.py\n",
            "cpc_classifier.py\t\t TestSnippets.ipynb\n",
            "cpc_linear.ipynb\t\t test_targets_features.py\n",
            "currency_pairs_2_classifier.py\t tst_usdt.pydata\n",
            "currency_pairs_mod.py\n"
          ],
          "name": "stdout"
        },
        {
          "output_type": "error",
          "ename": "AttributeError",
          "evalue": "ignored",
          "traceback": [
            "\u001b[0;31m---------------------------------------------------------------------------\u001b[0m",
            "\u001b[0;31mAttributeError\u001b[0m                            Traceback (most recent call last)",
            "\u001b[0;32m<ipython-input-62-05ca4304b0ac>\u001b[0m in \u001b[0;36m<module>\u001b[0;34m()\u001b[0m\n\u001b[1;32m      6\u001b[0m \u001b[0;32mimport\u001b[0m \u001b[0mtargets_features\u001b[0m\u001b[0;34m\u001b[0m\u001b[0;34m\u001b[0m\u001b[0m\n\u001b[1;32m      7\u001b[0m \u001b[0;32mimport\u001b[0m \u001b[0mcpc_classifier\u001b[0m\u001b[0;34m\u001b[0m\u001b[0;34m\u001b[0m\u001b[0m\n\u001b[0;32m----> 8\u001b[0;31m \u001b[0mcpc_classifier\u001b[0m\u001b[0;34m.\u001b[0m\u001b[0mexecute\u001b[0m\u001b[0;34m(\u001b[0m\u001b[0;34m)\u001b[0m\u001b[0;34m\u001b[0m\u001b[0;34m\u001b[0m\u001b[0m\n\u001b[0m",
            "\u001b[0;32m/content/FollowUpward/cpc_classifier.py\u001b[0m in \u001b[0;36mexecute\u001b[0;34m()\u001b[0m\n\u001b[1;32m    189\u001b[0m \u001b[0;34m\u001b[0m\u001b[0m\n\u001b[1;32m    190\u001b[0m \u001b[0;32mdef\u001b[0m \u001b[0mexecute\u001b[0m\u001b[0;34m(\u001b[0m\u001b[0;34m)\u001b[0m\u001b[0;34m:\u001b[0m\u001b[0;34m\u001b[0m\u001b[0;34m\u001b[0m\u001b[0m\n\u001b[0;32m--> 191\u001b[0;31m     \u001b[0mtf_vectors\u001b[0m \u001b[0;34m=\u001b[0m \u001b[0mload_targets_features\u001b[0m\u001b[0;34m(\u001b[0m\u001b[0mCUR_PAIR\u001b[0m\u001b[0;34m)\u001b[0m\u001b[0;34m\u001b[0m\u001b[0;34m\u001b[0m\u001b[0m\n\u001b[0m\u001b[1;32m    192\u001b[0m     \u001b[0mset_dict\u001b[0m \u001b[0;34m=\u001b[0m \u001b[0mtf_vectors\u001b[0m\u001b[0;34m.\u001b[0m\u001b[0msplit_data\u001b[0m\u001b[0;34m(\u001b[0m\u001b[0;36m1\u001b[0m\u001b[0;34m)\u001b[0m\u001b[0;34m\u001b[0m\u001b[0;34m\u001b[0m\u001b[0m\n\u001b[1;32m    193\u001b[0m     \u001b[0mprint\u001b[0m\u001b[0;34m(\u001b[0m\u001b[0mset_dict\u001b[0m\u001b[0;34m[\u001b[0m\u001b[0;34m'training'\u001b[0m\u001b[0;34m]\u001b[0m\u001b[0;34m.\u001b[0m\u001b[0mdescribe\u001b[0m\u001b[0;34m(\u001b[0m\u001b[0;34m)\u001b[0m\u001b[0;34m)\u001b[0m\u001b[0;34m\u001b[0m\u001b[0;34m\u001b[0m\u001b[0m\n",
            "\u001b[0;32m/content/FollowUpward/cpc_classifier.py\u001b[0m in \u001b[0;36mload_targets_features\u001b[0;34m(currency_pair)\u001b[0m\n\u001b[1;32m     46\u001b[0m     \"\"\"\n\u001b[1;32m     47\u001b[0m     \u001b[0mfname\u001b[0m \u001b[0;34m=\u001b[0m \u001b[0mDATA_PATH\u001b[0m \u001b[0;34m+\u001b[0m \u001b[0;34m'/'\u001b[0m \u001b[0;34m+\u001b[0m \u001b[0mcurrency_pair\u001b[0m \u001b[0;34m+\u001b[0m \u001b[0;34m'.pydata'\u001b[0m\u001b[0;34m\u001b[0m\u001b[0;34m\u001b[0m\u001b[0m\n\u001b[0;32m---> 48\u001b[0;31m     \u001b[0mtf_vec\u001b[0m \u001b[0;34m=\u001b[0m \u001b[0mt_f\u001b[0m\u001b[0;34m.\u001b[0m\u001b[0mTfVectors\u001b[0m\u001b[0;34m(\u001b[0m\u001b[0mfilename\u001b[0m\u001b[0;34m=\u001b[0m\u001b[0mfname\u001b[0m\u001b[0;34m)\u001b[0m\u001b[0;34m\u001b[0m\u001b[0;34m\u001b[0m\u001b[0m\n\u001b[0m\u001b[1;32m     49\u001b[0m     \u001b[0;32massert\u001b[0m \u001b[0mtf_vec\u001b[0m \u001b[0;32mis\u001b[0m \u001b[0;32mnot\u001b[0m \u001b[0;32mNone\u001b[0m\u001b[0;34m,\u001b[0m \u001b[0;34m\"missing tf vectors from {fname}\"\u001b[0m\u001b[0;34m\u001b[0m\u001b[0;34m\u001b[0m\u001b[0m\n\u001b[1;32m     50\u001b[0m     \u001b[0;32mreturn\u001b[0m \u001b[0mtf_vec\u001b[0m\u001b[0;34m\u001b[0m\u001b[0;34m\u001b[0m\u001b[0m\n",
            "\u001b[0;31mAttributeError\u001b[0m: module 'targets_features' has no attribute 'TfVectors'"
          ]
        }
      ]
    },
    {
      "metadata": {
        "id": "xAttw-FjbgoL",
        "colab_type": "code",
        "colab": {
          "base_uri": "https://localhost:8080/",
          "height": 187
        },
        "outputId": "564c2641-3fb8-4b1e-b61c-9ecfb304f907"
      },
      "cell_type": "code",
      "source": [
        "!tail targets_features.py\n"
      ],
      "execution_count": 25,
      "outputs": [
        {
          "output_type": "stream",
          "text": [
            "        return seq\n",
            "\n",
            "\n",
            "\n",
            "#if __name__ == \"__main__\":\n",
            "#    import sys\n",
            "#    fib(int(sys.argv[1]))\n",
            "#    currency_data = FeaturesTargets()\n",
            "#    print(currency_data.performances())\n",
            "\n"
          ],
          "name": "stdout"
        }
      ]
    },
    {
      "metadata": {
        "id": "4VL91liZ_xej",
        "colab_type": "code",
        "colab": {
          "base_uri": "https://localhost:8080/",
          "height": 527
        },
        "outputId": "2b167cd4-2bee-4fe3-aa42-67108fd9e13c"
      },
      "cell_type": "code",
      "source": [
        "!head cpc_classifier.py -n 30\n",
        "\n"
      ],
      "execution_count": 45,
      "outputs": [
        {
          "output_type": "stream",
          "text": [
            "#!/usr/bin/env python3\n",
            "# -*- coding: utf-8 -*-\n",
            "\"\"\"\n",
            "Created on Sun Jan 20 18:40:09 2019\n",
            "\n",
            "@author: tc\n",
            "\n",
            "\"\"\"\n",
            "\n",
            "from __future__ import print_function\n",
            "\n",
            "import os\n",
            "# import pandas as pd\n",
            "from targets_features import TfVectors\n",
            "\n",
            "import math\n",
            "\n",
            "from IPython import display\n",
            "from matplotlib import cm\n",
            "from matplotlib import gridspec\n",
            "from matplotlib import pyplot as plt\n",
            "import numpy as np\n",
            "import pandas as pd\n",
            "from sklearn import metrics\n",
            "import tensorflow as tf\n",
            "from tensorflow.python.data import Dataset\n",
            "\n",
            "tf.logging.set_verbosity(tf.logging.ERROR)\n",
            "pd.options.display.max_rows = 10\n",
            "pd.options.display.float_format = '{:.1f}'.format\n"
          ],
          "name": "stdout"
        }
      ]
    },
    {
      "metadata": {
        "id": "_6S8Ed-68UUB",
        "colab_type": "code",
        "colab": {
          "base_uri": "https://localhost:8080/",
          "height": 34
        },
        "outputId": "f19e9897-d37d-4cdd-a461-71519159d0ea"
      },
      "cell_type": "code",
      "source": [
        "%env PYTHONPATH"
      ],
      "execution_count": 30,
      "outputs": [
        {
          "output_type": "execute_result",
          "data": {
            "text/plain": [
              "'/env/python:/content/FollowUpward'"
            ]
          },
          "metadata": {
            "tags": []
          },
          "execution_count": 30
        }
      ]
    }
  ]
}